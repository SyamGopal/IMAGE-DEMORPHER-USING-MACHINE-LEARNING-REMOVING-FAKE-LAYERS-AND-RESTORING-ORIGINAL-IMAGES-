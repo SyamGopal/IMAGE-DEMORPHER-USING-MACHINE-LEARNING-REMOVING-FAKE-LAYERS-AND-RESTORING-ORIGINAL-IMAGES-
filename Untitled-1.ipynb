{
 "cells": [
  {
   "cell_type": "code",
   "execution_count": 3,
   "metadata": {},
   "outputs": [],
   "source": [
    "from PIL import Image, ImageChops\n",
    "\n",
    "def calculate_ela(image_path, temp_path):\n",
    "    \n",
    "    original_image = Image.open(image_path)\n",
    "    original_image = original_image.convert('RGB')\n",
    "\n",
    "    # Save the original image with a temporary quality level (90%)\n",
    "    original_image.save(temp_path, 'JPEG', quality=90)\n",
    "\n",
    "    # Open the temporary image\n",
    "    temporary_image = Image.open(temp_path)\n",
    "\n",
    "    # Calculate the absolute difference between the original and temporary image\n",
    "    ela_image = ImageChops.difference(original_image, temporary_image)\n",
    "\n",
    "    # Calculate the ELA value\n",
    "    extrema = ela_image.getextrema()\n",
    "    max_diff = max([ex[1] for ex in extrema])\n",
    "    scale = 255.0 / max_diff\n",
    "\n",
    "    ela_image = ImageEnhance.Brightness(ela_image).enhance(scale)\n",
    "\n",
    "    return ela_image\n"
   ]
  },
  {
   "cell_type": "code",
   "execution_count": null,
   "metadata": {},
   "outputs": [],
   "source": [
    "if __name__ == '__main__':\n",
    "    input_image_path = 'your_input_image.jpg'  # Replace with your image path\n",
    "    temp_image_path = 'temp_image.jpg'\n",
    "\n",
    "    ela_result = calculate_ela(input_image_path, temp_image_path)\n",
    "    ela_result.show()\n",
    "    ela_result.save('ela_result.jpg', 'JPEG')\n"
   ]
  }
 ],
 "metadata": {
  "kernelspec": {
   "display_name": "Python 3",
   "language": "python",
   "name": "python3"
  },
  "language_info": {
   "codemirror_mode": {
    "name": "ipython",
    "version": 3
   },
   "file_extension": ".py",
   "mimetype": "text/x-python",
   "name": "python",
   "nbconvert_exporter": "python",
   "pygments_lexer": "ipython3",
   "version": "3.9.13"
  }
 },
 "nbformat": 4,
 "nbformat_minor": 2
}
